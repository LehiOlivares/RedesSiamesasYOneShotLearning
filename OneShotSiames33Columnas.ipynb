{
 "cells": [
  {
   "cell_type": "code",
   "execution_count": 114,
   "id": "f87429bf",
   "metadata": {},
   "outputs": [],
   "source": [
    "import numpy as np\n",
    "import pandas as pd\n",
    "import tensorflow as tf\n",
    "from sklearn.model_selection import train_test_split\n",
    "from sklearn.metrics import confusion_matrix\n",
    "from sklearn.preprocessing import LabelEncoder\n",
    "import random\n",
    "from keras import losses, optimizers"
   ]
  },
  {
   "cell_type": "code",
   "execution_count": 115,
   "id": "27887337",
   "metadata": {},
   "outputs": [],
   "source": [
    "# Cargar datos desde CSV\n",
    "data = pd.read_csv('C:/Users/LEHI/Documents/Practicas profesionales/ABRIL/preprocessed data 33 columnas - etiqueta letras.csv')\n",
    "\n"
   ]
  },
  {
   "cell_type": "code",
   "execution_count": 116,
   "id": "ca2753ea",
   "metadata": {},
   "outputs": [],
   "source": [
    "df_uniq = data.groupby('clase').head(20)"
   ]
  },
  {
   "cell_type": "code",
   "execution_count": 117,
   "id": "e91e1363",
   "metadata": {},
   "outputs": [],
   "source": [
    "#df_uniq"
   ]
  },
  {
   "cell_type": "code",
   "execution_count": 118,
   "id": "849ed211",
   "metadata": {},
   "outputs": [],
   "source": [
    "# Dividir los datos en características (X) y etiquetas (y)\n",
    "X = df_uniq.drop('clase', axis=1)\n",
    "y = df_uniq['clase']"
   ]
  },
  {
   "cell_type": "code",
   "execution_count": 119,
   "id": "a717fe7d",
   "metadata": {},
   "outputs": [],
   "source": [
    "# Convertir etiquetas a números\n",
    "from sklearn.preprocessing import LabelEncoder\n",
    "label_encoder = LabelEncoder()\n",
    "y = label_encoder.fit_transform(y)"
   ]
  },
  {
   "cell_type": "code",
   "execution_count": 120,
   "id": "3c50eb28",
   "metadata": {},
   "outputs": [],
   "source": [
    "# Dividir datos en entrenamiento y prueba\n",
    "X_train, X_test, y_train, y_test = train_test_split(X, y, test_size=0.2, random_state=42)\n",
    "\n",
    "# Normalizar los datos (opcional pero recomendado)\n",
    "X_train = (X_train - X_train.mean()) / X_train.std()\n",
    "X_test = (X_test - X_test.mean()) / X_test.std()"
   ]
  },
  {
   "cell_type": "code",
   "execution_count": 121,
   "id": "994baeab",
   "metadata": {},
   "outputs": [],
   "source": [
    "# Definir la arquitectura de la red siamesa\n",
    "input_shape = X_train.shape[1]\n"
   ]
  },
  {
   "cell_type": "code",
   "execution_count": 122,
   "id": "1c7fbc76",
   "metadata": {},
   "outputs": [],
   "source": [
    "# Definir función para crear la rama de la red siamesa\n",
    "def create_siamese_branch(input_shape):\n",
    "    input_layer = tf.keras.layers.Input(shape=(input_shape,))\n",
    "    x = tf.keras.layers.Dense(64, activation='relu')(input_layer)\n",
    "    x = tf.keras.layers.Dropout(0.2)(x)\n",
    "    x = tf.keras.layers.Dense(32, activation='relu')(x)\n",
    "    x = tf.keras.layers.Dropout(0.2)(x)\n",
    "    return tf.keras.Model(inputs=input_layer, outputs=x)"
   ]
  },
  {
   "cell_type": "code",
   "execution_count": 123,
   "id": "0f89c881",
   "metadata": {},
   "outputs": [],
   "source": [
    "# Crear la rama izquierda y derecha de la red siamesa\n",
    "left_input = tf.keras.layers.Input(shape=(input_shape,))\n",
    "right_input = tf.keras.layers.Input(shape=(input_shape,))\n",
    "\n",
    "left_branch = create_siamese_branch(input_shape)(left_input)\n",
    "right_branch = create_siamese_branch(input_shape)(right_input)"
   ]
  },
  {
   "cell_type": "code",
   "execution_count": 124,
   "id": "4b36442b",
   "metadata": {},
   "outputs": [],
   "source": [
    "# Concatenar las salidas de ambas ramas\n",
    "merged = tf.keras.layers.Concatenate()([left_branch, right_branch])"
   ]
  },
  {
   "cell_type": "code",
   "execution_count": 125,
   "id": "bcd95941",
   "metadata": {},
   "outputs": [],
   "source": [
    "# Agregar capas adicionales y la capa de salida\n",
    "x = tf.keras.layers.Dense(32, activation='relu')(merged)\n",
    "x = tf.keras.layers.Dropout(0.2)(x)\n",
    "output = tf.keras.layers.Dense(13, activation='softmax')(x)"
   ]
  },
  {
   "cell_type": "code",
   "execution_count": 126,
   "id": "fceab5ba",
   "metadata": {},
   "outputs": [],
   "source": [
    "# Construir el modelo\n",
    "model = tf.keras.Model(inputs=[left_input, right_input], outputs=output)"
   ]
  },
  {
   "cell_type": "code",
   "execution_count": 127,
   "id": "014917e0",
   "metadata": {},
   "outputs": [],
   "source": [
    "# Compilar el modelo\n",
    "model.compile(optimizer='adam', loss=losses.SparseCategoricalCrossentropy(), metrics=['accuracy'])\n"
   ]
  },
  {
   "cell_type": "code",
   "execution_count": 128,
   "id": "0335fbfb",
   "metadata": {
    "collapsed": true
   },
   "outputs": [
    {
     "name": "stdout",
     "output_type": "stream",
     "text": [
      "Epoch 1/100\n",
      "10/10 [==============================] - 1s 30ms/step - loss: 2.6556 - accuracy: 0.0915 - val_loss: 2.4739 - val_accuracy: 0.2308\n",
      "Epoch 2/100\n",
      "10/10 [==============================] - 0s 5ms/step - loss: 2.4073 - accuracy: 0.1765 - val_loss: 2.2776 - val_accuracy: 0.2821\n",
      "Epoch 3/100\n",
      "10/10 [==============================] - 0s 5ms/step - loss: 2.2106 - accuracy: 0.2810 - val_loss: 2.1119 - val_accuracy: 0.4359\n",
      "Epoch 4/100\n",
      "10/10 [==============================] - 0s 6ms/step - loss: 2.0191 - accuracy: 0.3856 - val_loss: 1.9413 - val_accuracy: 0.5128\n",
      "Epoch 5/100\n",
      "10/10 [==============================] - 0s 5ms/step - loss: 1.8903 - accuracy: 0.4314 - val_loss: 1.7615 - val_accuracy: 0.6154\n",
      "Epoch 6/100\n",
      "10/10 [==============================] - 0s 5ms/step - loss: 1.6302 - accuracy: 0.4967 - val_loss: 1.5568 - val_accuracy: 0.6667\n",
      "Epoch 7/100\n",
      "10/10 [==============================] - 0s 5ms/step - loss: 1.4559 - accuracy: 0.6013 - val_loss: 1.3756 - val_accuracy: 0.6923\n",
      "Epoch 8/100\n",
      "10/10 [==============================] - 0s 5ms/step - loss: 1.3501 - accuracy: 0.5490 - val_loss: 1.2290 - val_accuracy: 0.7692\n",
      "Epoch 9/100\n",
      "10/10 [==============================] - 0s 5ms/step - loss: 1.1163 - accuracy: 0.6471 - val_loss: 1.0900 - val_accuracy: 0.8205\n",
      "Epoch 10/100\n",
      "10/10 [==============================] - 0s 5ms/step - loss: 1.0169 - accuracy: 0.7386 - val_loss: 0.9705 - val_accuracy: 0.8718\n",
      "Epoch 11/100\n",
      "10/10 [==============================] - 0s 5ms/step - loss: 0.9946 - accuracy: 0.6471 - val_loss: 0.8663 - val_accuracy: 0.8718\n",
      "Epoch 12/100\n",
      "10/10 [==============================] - 0s 5ms/step - loss: 0.9212 - accuracy: 0.7124 - val_loss: 0.7852 - val_accuracy: 0.8462\n",
      "Epoch 13/100\n",
      "10/10 [==============================] - 0s 5ms/step - loss: 0.7870 - accuracy: 0.7582 - val_loss: 0.7265 - val_accuracy: 0.8974\n",
      "Epoch 14/100\n",
      "10/10 [==============================] - 0s 5ms/step - loss: 0.7216 - accuracy: 0.7974 - val_loss: 0.7034 - val_accuracy: 0.8974\n",
      "Epoch 15/100\n",
      "10/10 [==============================] - 0s 5ms/step - loss: 0.6680 - accuracy: 0.8039 - val_loss: 0.6804 - val_accuracy: 0.8974\n",
      "Epoch 16/100\n",
      "10/10 [==============================] - 0s 5ms/step - loss: 0.6601 - accuracy: 0.7843 - val_loss: 0.6370 - val_accuracy: 0.8974\n",
      "Epoch 17/100\n",
      "10/10 [==============================] - 0s 5ms/step - loss: 0.5787 - accuracy: 0.8301 - val_loss: 0.6119 - val_accuracy: 0.8974\n",
      "Epoch 18/100\n",
      "10/10 [==============================] - 0s 6ms/step - loss: 0.5131 - accuracy: 0.8366 - val_loss: 0.6184 - val_accuracy: 0.8974\n",
      "Epoch 19/100\n",
      "10/10 [==============================] - 0s 5ms/step - loss: 0.4532 - accuracy: 0.8889 - val_loss: 0.6257 - val_accuracy: 0.8974\n",
      "Epoch 20/100\n",
      "10/10 [==============================] - 0s 5ms/step - loss: 0.4051 - accuracy: 0.8824 - val_loss: 0.6218 - val_accuracy: 0.8974\n",
      "Epoch 21/100\n",
      "10/10 [==============================] - 0s 6ms/step - loss: 0.3901 - accuracy: 0.9216 - val_loss: 0.5891 - val_accuracy: 0.8974\n",
      "Epoch 22/100\n",
      "10/10 [==============================] - 0s 6ms/step - loss: 0.4098 - accuracy: 0.8758 - val_loss: 0.5785 - val_accuracy: 0.8974\n",
      "Epoch 23/100\n",
      "10/10 [==============================] - 0s 7ms/step - loss: 0.3809 - accuracy: 0.8954 - val_loss: 0.5729 - val_accuracy: 0.8718\n",
      "Epoch 24/100\n",
      "10/10 [==============================] - 0s 5ms/step - loss: 0.3374 - accuracy: 0.9085 - val_loss: 0.5762 - val_accuracy: 0.8718\n",
      "Epoch 25/100\n",
      "10/10 [==============================] - 0s 5ms/step - loss: 0.3193 - accuracy: 0.9150 - val_loss: 0.5735 - val_accuracy: 0.8718\n",
      "Epoch 26/100\n",
      "10/10 [==============================] - 0s 6ms/step - loss: 0.2983 - accuracy: 0.9020 - val_loss: 0.5943 - val_accuracy: 0.8974\n",
      "Epoch 27/100\n",
      "10/10 [==============================] - 0s 6ms/step - loss: 0.3723 - accuracy: 0.8824 - val_loss: 0.6003 - val_accuracy: 0.8974\n",
      "Epoch 28/100\n",
      "10/10 [==============================] - 0s 6ms/step - loss: 0.2602 - accuracy: 0.9412 - val_loss: 0.6114 - val_accuracy: 0.8718\n",
      "Epoch 29/100\n",
      "10/10 [==============================] - 0s 5ms/step - loss: 0.3245 - accuracy: 0.9085 - val_loss: 0.6122 - val_accuracy: 0.8718\n",
      "Epoch 30/100\n",
      "10/10 [==============================] - 0s 5ms/step - loss: 0.2978 - accuracy: 0.9020 - val_loss: 0.6126 - val_accuracy: 0.8974\n",
      "Epoch 31/100\n",
      "10/10 [==============================] - 0s 5ms/step - loss: 0.2491 - accuracy: 0.9281 - val_loss: 0.5999 - val_accuracy: 0.8974\n",
      "Epoch 32/100\n",
      "10/10 [==============================] - 0s 5ms/step - loss: 0.1894 - accuracy: 0.9804 - val_loss: 0.6230 - val_accuracy: 0.8974\n",
      "Epoch 33/100\n",
      "10/10 [==============================] - 0s 5ms/step - loss: 0.2360 - accuracy: 0.9281 - val_loss: 0.6151 - val_accuracy: 0.9231\n",
      "Epoch 34/100\n",
      "10/10 [==============================] - 0s 5ms/step - loss: 0.1981 - accuracy: 0.9346 - val_loss: 0.5759 - val_accuracy: 0.8974\n",
      "Epoch 35/100\n",
      "10/10 [==============================] - 0s 5ms/step - loss: 0.1983 - accuracy: 0.9150 - val_loss: 0.5163 - val_accuracy: 0.8974\n",
      "Epoch 36/100\n",
      "10/10 [==============================] - 0s 6ms/step - loss: 0.2025 - accuracy: 0.9412 - val_loss: 0.5524 - val_accuracy: 0.9231\n",
      "Epoch 37/100\n",
      "10/10 [==============================] - 0s 5ms/step - loss: 0.2281 - accuracy: 0.9477 - val_loss: 0.6032 - val_accuracy: 0.9231\n",
      "Epoch 38/100\n",
      "10/10 [==============================] - 0s 6ms/step - loss: 0.1713 - accuracy: 0.9542 - val_loss: 0.6144 - val_accuracy: 0.8974\n",
      "Epoch 39/100\n",
      "10/10 [==============================] - 0s 5ms/step - loss: 0.1734 - accuracy: 0.9477 - val_loss: 0.6366 - val_accuracy: 0.8974\n",
      "Epoch 40/100\n",
      "10/10 [==============================] - 0s 5ms/step - loss: 0.1420 - accuracy: 0.9804 - val_loss: 0.6319 - val_accuracy: 0.8974\n",
      "Epoch 41/100\n",
      "10/10 [==============================] - 0s 5ms/step - loss: 0.2413 - accuracy: 0.9281 - val_loss: 0.6042 - val_accuracy: 0.8974\n",
      "Epoch 42/100\n",
      "10/10 [==============================] - 0s 5ms/step - loss: 0.1325 - accuracy: 0.9804 - val_loss: 0.5951 - val_accuracy: 0.8974\n",
      "Epoch 43/100\n",
      "10/10 [==============================] - 0s 4ms/step - loss: 0.1250 - accuracy: 0.9739 - val_loss: 0.5818 - val_accuracy: 0.8974\n",
      "Epoch 44/100\n",
      "10/10 [==============================] - 0s 5ms/step - loss: 0.1308 - accuracy: 0.9673 - val_loss: 0.5899 - val_accuracy: 0.8974\n",
      "Epoch 45/100\n",
      "10/10 [==============================] - 0s 5ms/step - loss: 0.1505 - accuracy: 0.9542 - val_loss: 0.5803 - val_accuracy: 0.8974\n",
      "Epoch 46/100\n",
      "10/10 [==============================] - 0s 5ms/step - loss: 0.1264 - accuracy: 0.9673 - val_loss: 0.5906 - val_accuracy: 0.8974\n",
      "Epoch 47/100\n",
      "10/10 [==============================] - 0s 5ms/step - loss: 0.1584 - accuracy: 0.9608 - val_loss: 0.6320 - val_accuracy: 0.8974\n",
      "Epoch 48/100\n",
      "10/10 [==============================] - 0s 5ms/step - loss: 0.1488 - accuracy: 0.9542 - val_loss: 0.6386 - val_accuracy: 0.8974\n",
      "Epoch 49/100\n",
      "10/10 [==============================] - 0s 5ms/step - loss: 0.1301 - accuracy: 0.9739 - val_loss: 0.6420 - val_accuracy: 0.9231\n",
      "Epoch 50/100\n",
      "10/10 [==============================] - 0s 5ms/step - loss: 0.0830 - accuracy: 0.9804 - val_loss: 0.6285 - val_accuracy: 0.9231\n",
      "Epoch 51/100\n",
      "10/10 [==============================] - 0s 5ms/step - loss: 0.0642 - accuracy: 0.9804 - val_loss: 0.6282 - val_accuracy: 0.9231\n",
      "Epoch 52/100\n",
      "10/10 [==============================] - 0s 5ms/step - loss: 0.1529 - accuracy: 0.9412 - val_loss: 0.6349 - val_accuracy: 0.9231\n",
      "Epoch 53/100\n",
      "10/10 [==============================] - 0s 6ms/step - loss: 0.1709 - accuracy: 0.9477 - val_loss: 0.6344 - val_accuracy: 0.9231\n",
      "Epoch 54/100\n",
      "10/10 [==============================] - 0s 5ms/step - loss: 0.1696 - accuracy: 0.9346 - val_loss: 0.6983 - val_accuracy: 0.8974\n",
      "Epoch 55/100\n",
      "10/10 [==============================] - 0s 5ms/step - loss: 0.0628 - accuracy: 1.0000 - val_loss: 0.7194 - val_accuracy: 0.9231\n",
      "Epoch 56/100\n",
      "10/10 [==============================] - 0s 5ms/step - loss: 0.0954 - accuracy: 0.9739 - val_loss: 0.7510 - val_accuracy: 0.9231\n",
      "Epoch 57/100\n",
      "10/10 [==============================] - 0s 5ms/step - loss: 0.0870 - accuracy: 0.9739 - val_loss: 0.7478 - val_accuracy: 0.9231\n",
      "Epoch 58/100\n",
      "10/10 [==============================] - 0s 5ms/step - loss: 0.0902 - accuracy: 0.9804 - val_loss: 0.7053 - val_accuracy: 0.9231\n"
     ]
    },
    {
     "name": "stdout",
     "output_type": "stream",
     "text": [
      "Epoch 59/100\n",
      "10/10 [==============================] - 0s 5ms/step - loss: 0.0896 - accuracy: 0.9804 - val_loss: 0.7064 - val_accuracy: 0.8974\n",
      "Epoch 60/100\n",
      "10/10 [==============================] - 0s 5ms/step - loss: 0.0936 - accuracy: 0.9804 - val_loss: 0.6959 - val_accuracy: 0.8974\n",
      "Epoch 61/100\n",
      "10/10 [==============================] - 0s 5ms/step - loss: 0.0703 - accuracy: 0.9869 - val_loss: 0.6732 - val_accuracy: 0.8974\n",
      "Epoch 62/100\n",
      "10/10 [==============================] - 0s 5ms/step - loss: 0.0981 - accuracy: 0.9739 - val_loss: 0.6741 - val_accuracy: 0.9231\n",
      "Epoch 63/100\n",
      "10/10 [==============================] - 0s 6ms/step - loss: 0.0823 - accuracy: 0.9673 - val_loss: 0.6783 - val_accuracy: 0.9231\n",
      "Epoch 64/100\n",
      "10/10 [==============================] - 0s 5ms/step - loss: 0.1029 - accuracy: 0.9673 - val_loss: 0.6475 - val_accuracy: 0.9231\n",
      "Epoch 65/100\n",
      "10/10 [==============================] - 0s 6ms/step - loss: 0.0880 - accuracy: 0.9673 - val_loss: 0.6350 - val_accuracy: 0.9231\n",
      "Epoch 66/100\n",
      "10/10 [==============================] - 0s 5ms/step - loss: 0.1783 - accuracy: 0.9542 - val_loss: 0.6187 - val_accuracy: 0.9231\n",
      "Epoch 67/100\n",
      "10/10 [==============================] - 0s 7ms/step - loss: 0.1221 - accuracy: 0.9673 - val_loss: 0.5077 - val_accuracy: 0.9231\n",
      "Epoch 68/100\n",
      "10/10 [==============================] - 0s 6ms/step - loss: 0.0857 - accuracy: 0.9804 - val_loss: 0.4681 - val_accuracy: 0.8974\n",
      "Epoch 69/100\n",
      "10/10 [==============================] - 0s 5ms/step - loss: 0.0521 - accuracy: 1.0000 - val_loss: 0.4886 - val_accuracy: 0.8974\n",
      "Epoch 70/100\n",
      "10/10 [==============================] - 0s 5ms/step - loss: 0.0828 - accuracy: 0.9869 - val_loss: 0.5273 - val_accuracy: 0.8974\n",
      "Epoch 71/100\n",
      "10/10 [==============================] - 0s 5ms/step - loss: 0.0528 - accuracy: 0.9869 - val_loss: 0.5725 - val_accuracy: 0.9231\n",
      "Epoch 72/100\n",
      "10/10 [==============================] - 0s 5ms/step - loss: 0.0737 - accuracy: 0.9869 - val_loss: 0.6016 - val_accuracy: 0.9231\n",
      "Epoch 73/100\n",
      "10/10 [==============================] - 0s 5ms/step - loss: 0.0557 - accuracy: 0.9869 - val_loss: 0.6193 - val_accuracy: 0.8974\n",
      "Epoch 74/100\n",
      "10/10 [==============================] - 0s 5ms/step - loss: 0.0392 - accuracy: 0.9935 - val_loss: 0.6500 - val_accuracy: 0.8974\n",
      "Epoch 75/100\n",
      "10/10 [==============================] - 0s 6ms/step - loss: 0.0734 - accuracy: 0.9804 - val_loss: 0.6499 - val_accuracy: 0.9231\n",
      "Epoch 76/100\n",
      "10/10 [==============================] - 0s 5ms/step - loss: 0.0432 - accuracy: 0.9869 - val_loss: 0.6011 - val_accuracy: 0.9231\n",
      "Epoch 77/100\n",
      "10/10 [==============================] - 0s 6ms/step - loss: 0.0963 - accuracy: 0.9869 - val_loss: 0.6189 - val_accuracy: 0.8974\n",
      "Epoch 78/100\n",
      "10/10 [==============================] - 0s 5ms/step - loss: 0.0593 - accuracy: 0.9739 - val_loss: 0.6778 - val_accuracy: 0.8974\n",
      "Epoch 79/100\n",
      "10/10 [==============================] - 0s 5ms/step - loss: 0.0282 - accuracy: 0.9935 - val_loss: 0.6993 - val_accuracy: 0.8974\n",
      "Epoch 80/100\n",
      "10/10 [==============================] - 0s 5ms/step - loss: 0.0638 - accuracy: 0.9869 - val_loss: 0.7256 - val_accuracy: 0.9231\n",
      "Epoch 81/100\n",
      "10/10 [==============================] - 0s 5ms/step - loss: 0.0649 - accuracy: 0.9739 - val_loss: 0.7123 - val_accuracy: 0.9231\n",
      "Epoch 82/100\n",
      "10/10 [==============================] - 0s 5ms/step - loss: 0.0864 - accuracy: 0.9739 - val_loss: 0.6734 - val_accuracy: 0.9231\n",
      "Epoch 83/100\n",
      "10/10 [==============================] - 0s 5ms/step - loss: 0.0671 - accuracy: 0.9739 - val_loss: 0.6182 - val_accuracy: 0.9231\n",
      "Epoch 84/100\n",
      "10/10 [==============================] - 0s 5ms/step - loss: 0.0356 - accuracy: 0.9935 - val_loss: 0.6211 - val_accuracy: 0.9231\n",
      "Epoch 85/100\n",
      "10/10 [==============================] - 0s 5ms/step - loss: 0.0494 - accuracy: 0.9935 - val_loss: 0.6500 - val_accuracy: 0.9231\n",
      "Epoch 86/100\n",
      "10/10 [==============================] - 0s 5ms/step - loss: 0.0498 - accuracy: 0.9935 - val_loss: 0.6784 - val_accuracy: 0.9231\n",
      "Epoch 87/100\n",
      "10/10 [==============================] - 0s 5ms/step - loss: 0.0541 - accuracy: 0.9739 - val_loss: 0.7234 - val_accuracy: 0.9231\n",
      "Epoch 88/100\n",
      "10/10 [==============================] - 0s 6ms/step - loss: 0.0360 - accuracy: 0.9935 - val_loss: 0.7499 - val_accuracy: 0.9231\n",
      "Epoch 89/100\n",
      "10/10 [==============================] - 0s 6ms/step - loss: 0.0542 - accuracy: 0.9804 - val_loss: 0.7333 - val_accuracy: 0.9231\n",
      "Epoch 90/100\n",
      "10/10 [==============================] - 0s 5ms/step - loss: 0.0159 - accuracy: 1.0000 - val_loss: 0.7128 - val_accuracy: 0.9231\n",
      "Epoch 91/100\n",
      "10/10 [==============================] - 0s 6ms/step - loss: 0.0601 - accuracy: 0.9739 - val_loss: 0.6421 - val_accuracy: 0.9231\n",
      "Epoch 92/100\n",
      "10/10 [==============================] - 0s 6ms/step - loss: 0.0682 - accuracy: 0.9935 - val_loss: 0.6000 - val_accuracy: 0.9231\n",
      "Epoch 93/100\n",
      "10/10 [==============================] - 0s 5ms/step - loss: 0.0450 - accuracy: 0.9935 - val_loss: 0.5769 - val_accuracy: 0.9231\n",
      "Epoch 94/100\n",
      "10/10 [==============================] - 0s 5ms/step - loss: 0.0556 - accuracy: 0.9804 - val_loss: 0.6039 - val_accuracy: 0.9231\n",
      "Epoch 95/100\n",
      "10/10 [==============================] - 0s 5ms/step - loss: 0.0278 - accuracy: 0.9935 - val_loss: 0.6406 - val_accuracy: 0.9231\n",
      "Epoch 96/100\n",
      "10/10 [==============================] - 0s 7ms/step - loss: 0.0343 - accuracy: 0.9935 - val_loss: 0.6548 - val_accuracy: 0.9231\n",
      "Epoch 97/100\n",
      "10/10 [==============================] - 0s 5ms/step - loss: 0.0387 - accuracy: 0.9869 - val_loss: 0.6755 - val_accuracy: 0.9231\n",
      "Epoch 98/100\n",
      "10/10 [==============================] - 0s 5ms/step - loss: 0.0478 - accuracy: 0.9869 - val_loss: 0.6777 - val_accuracy: 0.9231\n",
      "Epoch 99/100\n",
      "10/10 [==============================] - 0s 6ms/step - loss: 0.0629 - accuracy: 0.9804 - val_loss: 0.6735 - val_accuracy: 0.9231\n",
      "Epoch 100/100\n",
      "10/10 [==============================] - 0s 6ms/step - loss: 0.0228 - accuracy: 1.0000 - val_loss: 0.6620 - val_accuracy: 0.9231\n"
     ]
    }
   ],
   "source": [
    "# Entrenar el modelo\n",
    "history = model.fit([X_train, X_train], y_train, epochs=100, batch_size=16, validation_split=0.2)\n"
   ]
  },
  {
   "cell_type": "code",
   "execution_count": 129,
   "id": "fac2047b",
   "metadata": {},
   "outputs": [],
   "source": [
    "# Cargar datos desde CSV\n",
    "data = pd.read_csv('C:/Users/LEHI/Documents/Practicas profesionales/ABRIL/preprocessed data 33 columnas - etiqueta letras.csv')\n"
   ]
  },
  {
   "cell_type": "code",
   "execution_count": 130,
   "id": "2b1fef16",
   "metadata": {},
   "outputs": [],
   "source": [
    "# Convertir etiquetas a números\n",
    "from sklearn.preprocessing import LabelEncoder\n",
    "label_encoder = LabelEncoder()\n",
    "y = label_encoder.fit_transform(y)"
   ]
  },
  {
   "cell_type": "code",
   "execution_count": 131,
   "id": "a9778fe4",
   "metadata": {},
   "outputs": [],
   "source": [
    "# Dividir datos en entrenamiento y prueba\n",
    "X_train, X_test, y_train, y_test = train_test_split(X, y, test_size=0.2, random_state=42)\n",
    "\n",
    "\n",
    "# Normalizar los datos (opcional pero recomendado)\n",
    "X_train = (X_train - X_train.mean()) / X_train.std()\n",
    "X_test = (X_test - X_test.mean()) / X_test.std()\n"
   ]
  },
  {
   "cell_type": "code",
   "execution_count": 132,
   "id": "3ec6852d",
   "metadata": {},
   "outputs": [
    {
     "name": "stdout",
     "output_type": "stream",
     "text": [
      "2/2 [==============================] - 0s 2ms/step\n"
     ]
    }
   ],
   "source": [
    "# Evaluar el modelo\n",
    "y_pred = model.predict([X_test, X_test])\n",
    "y_pred_classes = np.argmax(y_pred, axis=1)"
   ]
  },
  {
   "cell_type": "code",
   "execution_count": 133,
   "id": "5e96cc7e",
   "metadata": {
    "scrolled": true
   },
   "outputs": [
    {
     "name": "stdout",
     "output_type": "stream",
     "text": [
      "Matriz de Confusión:\n",
      "[[3 0 0 0 0 0 0 0 0 0 0 0]\n",
      " [0 2 0 0 1 0 0 0 0 0 0 0]\n",
      " [0 0 3 0 0 0 0 0 0 0 0 0]\n",
      " [0 0 0 6 0 0 0 1 0 0 0 0]\n",
      " [0 0 0 0 4 0 0 0 0 0 0 0]\n",
      " [0 0 0 0 0 5 0 0 0 0 0 0]\n",
      " [0 0 0 0 0 0 5 0 0 0 0 0]\n",
      " [0 0 0 0 0 0 0 2 0 0 0 0]\n",
      " [0 0 0 0 0 0 0 0 5 0 0 0]\n",
      " [0 0 0 0 0 0 0 0 0 2 0 0]\n",
      " [0 0 1 0 0 0 0 0 0 0 1 0]\n",
      " [0 0 0 0 0 0 0 0 0 0 0 7]]\n"
     ]
    }
   ],
   "source": [
    "# Matriz de confusión\n",
    "conf_matrix = confusion_matrix(y_test, y_pred_classes)\n",
    "print(\"Matriz de Confusión:\")\n",
    "print(conf_matrix)"
   ]
  },
  {
   "cell_type": "code",
   "execution_count": 134,
   "id": "9f194f4b",
   "metadata": {},
   "outputs": [
    {
     "name": "stdout",
     "output_type": "stream",
     "text": [
      "Exactitud (Accuracy):\n",
      " 0.9375\n",
      "Precisión (Precision) por clase:\n",
      " [1.         1.         0.75       1.         0.8        1.\n",
      " 1.         0.66666667 1.         1.         1.         1.        ]\n",
      "Sensibilidad (Recall) por clase:\n",
      " [1.         0.66666667 1.         0.85714286 1.         1.\n",
      " 1.         1.         1.         1.         0.5        1.        ]\n",
      "Puntuación F1 (F1 Score) por clase:\n",
      " [1.         0.8        0.85714286 0.92307692 0.88888889 1.\n",
      " 1.         0.8        1.         1.         0.66666667 1.        ]\n"
     ]
    }
   ],
   "source": [
    "#Metricas\n",
    "\n",
    "with np.errstate(divide='ignore', invalid='ignore'):\n",
    "    # Exactitud (Accuracy)\n",
    "    accuracy = np.sum(np.diag(conf_matrix)) / np.sum(conf_matrix)\n",
    "    print(\"Exactitud (Accuracy):\\n\", accuracy)\n",
    "\n",
    "    # Precisión (Precision)\n",
    "    precision = np.diag(conf_matrix) / np.sum(conf_matrix, axis=0)\n",
    "    precision[np.isnan(precision)] = 0  # Reemplaza NaN con 0\n",
    "    print(\"Precisión (Precision) por clase:\\n\", precision)\n",
    "\n",
    "    # Sensibilidad (Recall)\n",
    "    sensibilidad = np.diag(conf_matrix) / np.sum(conf_matrix, axis=1)\n",
    "    sensibilidad[np.isnan(sensibilidad)] = 0  # Reemplaza NaN con 0\n",
    "    print(\"Sensibilidad (Recall) por clase:\\n\", sensibilidad)\n",
    "\n",
    "    # Puntuación F1 (F1 Score)\n",
    "    f1_score = 2 * (precision * sensibilidad) / (precision + sensibilidad)\n",
    "    f1_score[np.isnan(f1_score)] = 0  # Reemplaza NaN con 0\n",
    "    print(\"Puntuación F1 (F1 Score) por clase:\\n\", f1_score)"
   ]
  },
  {
   "cell_type": "code",
   "execution_count": null,
   "id": "7331f3fe",
   "metadata": {},
   "outputs": [],
   "source": []
  }
 ],
 "metadata": {
  "kernelspec": {
   "display_name": "Python 3 (ipykernel)",
   "language": "python",
   "name": "python3"
  },
  "language_info": {
   "codemirror_mode": {
    "name": "ipython",
    "version": 3
   },
   "file_extension": ".py",
   "mimetype": "text/x-python",
   "name": "python",
   "nbconvert_exporter": "python",
   "pygments_lexer": "ipython3",
   "version": "3.9.18"
  }
 },
 "nbformat": 4,
 "nbformat_minor": 5
}
