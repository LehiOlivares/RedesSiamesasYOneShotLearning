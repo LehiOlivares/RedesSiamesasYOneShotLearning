{
 "cells": [
  {
   "cell_type": "code",
   "execution_count": 184,
   "id": "427769a4",
   "metadata": {},
   "outputs": [],
   "source": [
    "import numpy as np\n",
    "import pandas as pd\n",
    "import tensorflow as tf\n",
    "from sklearn.model_selection import train_test_split\n",
    "from sklearn.metrics import confusion_matrix, roc_curve, auc\n",
    "import matplotlib.pyplot as plt\n",
    "\n",
    "import tensorflow.keras.losses as losses"
   ]
  },
  {
   "cell_type": "code",
   "execution_count": 185,
   "id": "f90c7666",
   "metadata": {},
   "outputs": [],
   "source": [
    "dataPhishing = pd.read_csv('C:/Users/LEHI/Documents/Practicas profesionales/ABRIL/preprocessed data-phishing.csv')"
   ]
  },
  {
   "cell_type": "code",
   "execution_count": 186,
   "id": "b89654d6",
   "metadata": {},
   "outputs": [],
   "source": [
    "#Seleccion de elementos por clase\n",
    "df_uniq = dataPhishing.groupby('phishing').head(100)"
   ]
  },
  {
   "cell_type": "code",
   "execution_count": 187,
   "id": "4bd535c2",
   "metadata": {
    "scrolled": true
   },
   "outputs": [],
   "source": [
    "#Vizualizar los datos seleccionados\n",
    "#df_uniq"
   ]
  },
  {
   "cell_type": "code",
   "execution_count": 188,
   "id": "5756ea58",
   "metadata": {},
   "outputs": [],
   "source": [
    "def eliminar_columnas(data, columnas_a_eliminar):\n",
    "    dataSC= df_uniq.copy()\n",
    "    dataSC=df_uniq.drop(columns=columnas_a_eliminar, errors='ignore')\n",
    "    return dataSC"
   ]
  },
  {
   "cell_type": "code",
   "execution_count": 189,
   "id": "3cfc0a61",
   "metadata": {},
   "outputs": [],
   "source": [
    "columnasE=[\n",
    "'qty_hyphen_ur',\n",
    "'qty_underline_url',\n",
    "'qty_questionmark_url',\n",
    "'qty_equal_url',\n",
    "'qty_at_url',\n",
    "'qty_and_url',\n",
    "'qty_exclamation_url',\n",
    "'qty_space_url',\n",
    "'qty_tilde_url',\n",
    "'qty_comma_url',\n",
    "'qty_plus_url',\n",
    "'qty_asterisk_url',\n",
    "'qty_hashtag_url',\n",
    "'qty_dollar_url',\n",
    "'qty_percent_url',\n",
    "'qty_hyphen_domain',\n",
    "'qty_underline_domain',\n",
    "'qty_at_domain',\n",
    "'domain_in_ip',\n",
    "'server_client_domain',\n",
    "'qty_dot_directory',\n",
    "'qty_hyphen_directory',\n",
    "'qty_underline_directory',\n",
    "'qty_questionmark_directory',\n",
    "'qty_percent_directory',\n",
    "'qty_hyphen_file',\n",
    "'file_length',\n",
    "'email_in_url',\n",
    "'domain_spf',\n",
    "'qty_mx_servers',\n",
    "'tls_ssl_certificate',\n",
    "'qty_redirects',\n",
    "'url_google_index',\n",
    "'domain_google_index',\n",
    "'url_shortened'\n",
    "]"
   ]
  },
  {
   "cell_type": "code",
   "execution_count": 190,
   "id": "f7c86b11",
   "metadata": {},
   "outputs": [],
   "source": [
    "dataLimpiaP=eliminar_columnas(df_uniq,columnasE)"
   ]
  },
  {
   "cell_type": "code",
   "execution_count": 191,
   "id": "8f6240f4",
   "metadata": {},
   "outputs": [],
   "source": [
    "#dataLimpiaP"
   ]
  },
  {
   "cell_type": "code",
   "execution_count": 192,
   "id": "c44f80d6",
   "metadata": {},
   "outputs": [],
   "source": [
    "# Dividir los datos en características (X) y etiquetas (y)\n",
    "X = dataLimpiaP.drop('phishing', axis=1)\n",
    "y = dataLimpiaP['phishing']"
   ]
  },
  {
   "cell_type": "code",
   "execution_count": 193,
   "id": "2db1d65c",
   "metadata": {},
   "outputs": [],
   "source": [
    "# Convertir etiquetas a números\n",
    "from sklearn.preprocessing import LabelEncoder\n",
    "label_encoder = LabelEncoder()\n",
    "y = label_encoder.fit_transform(y)"
   ]
  },
  {
   "cell_type": "code",
   "execution_count": 194,
   "id": "e0912587",
   "metadata": {},
   "outputs": [],
   "source": [
    "# Dividir datos en entrenamiento y prueba\n",
    "X_train, X_test, y_train, y_test = train_test_split(X, y, test_size=0.2, random_state=42)\n",
    "\n",
    "# Normalizar los datos (opcional pero recomendado)\n",
    "X_train = (X_train - X_train.mean()) / X_train.std()\n",
    "X_test = (X_test - X_test.mean()) / X_test.std()"
   ]
  },
  {
   "cell_type": "code",
   "execution_count": 195,
   "id": "24b296e1",
   "metadata": {},
   "outputs": [],
   "source": [
    "# Definir la arquitectura de la red siamesa\n",
    "input_shape = X_train.shape[1]"
   ]
  },
  {
   "cell_type": "code",
   "execution_count": 196,
   "id": "a26002f0",
   "metadata": {},
   "outputs": [],
   "source": [
    "# Definir función para crear la rama de la red siamesa\n",
    "def create_siamese_branch(input_shape):\n",
    "    input_layer = tf.keras.layers.Input(shape=(input_shape,))\n",
    "    x = tf.keras.layers.Dense(64, activation='relu')(input_layer)\n",
    "    x = tf.keras.layers.Dropout(0.2)(x)\n",
    "    x = tf.keras.layers.Dense(32, activation='relu')(x)\n",
    "    x = tf.keras.layers.Dropout(0.2)(x)\n",
    "    return tf.keras.Model(inputs=input_layer, outputs=x)"
   ]
  },
  {
   "cell_type": "code",
   "execution_count": 197,
   "id": "26064a0a",
   "metadata": {},
   "outputs": [],
   "source": [
    "# Crear la rama izquierda y derecha de la red siamesa\n",
    "left_input = tf.keras.layers.Input(shape=(input_shape,))\n",
    "right_input = tf.keras.layers.Input(shape=(input_shape,))\n",
    "\n",
    "left_branch = create_siamese_branch(input_shape)(left_input)\n",
    "right_branch = create_siamese_branch(input_shape)(right_input)"
   ]
  },
  {
   "cell_type": "code",
   "execution_count": 198,
   "id": "2fc812a1",
   "metadata": {},
   "outputs": [],
   "source": [
    "# Concatenar las salidas de ambas ramas\n",
    "merged = tf.keras.layers.Concatenate()([left_branch, right_branch])"
   ]
  },
  {
   "cell_type": "code",
   "execution_count": 199,
   "id": "09ff6edf",
   "metadata": {},
   "outputs": [],
   "source": [
    "# Agregar capas adicionales y la capa de salida\n",
    "x = tf.keras.layers.Dense(32, activation='relu')(merged)\n",
    "x = tf.keras.layers.Dropout(0.2)(x)\n",
    "output = tf.keras.layers.Dense(2, activation='sigmoid')(x)  "
   ]
  },
  {
   "cell_type": "code",
   "execution_count": 200,
   "id": "b2bb1bfe",
   "metadata": {},
   "outputs": [],
   "source": [
    "# Construir el modelo\n",
    "model = tf.keras.Model(inputs=[left_input, right_input], outputs=output)"
   ]
  },
  {
   "cell_type": "code",
   "execution_count": 201,
   "id": "bf9ecfc2",
   "metadata": {},
   "outputs": [],
   "source": [
    "# Compilar el modelo\n",
    "model.compile(optimizer='adam', loss=losses.SparseCategoricalCrossentropy(), metrics=['accuracy'])\n"
   ]
  },
  {
   "cell_type": "code",
   "execution_count": 202,
   "id": "9f40483b",
   "metadata": {},
   "outputs": [
    {
     "name": "stdout",
     "output_type": "stream",
     "text": [
      "Epoch 1/20\n",
      "8/8 [==============================] - 1s 35ms/step - loss: 0.6390 - accuracy: 0.5859 - val_loss: 0.5694 - val_accuracy: 0.8125\n",
      "Epoch 2/20\n",
      "8/8 [==============================] - 0s 5ms/step - loss: 0.5828 - accuracy: 0.7266 - val_loss: 0.5069 - val_accuracy: 0.8125\n",
      "Epoch 3/20\n",
      "8/8 [==============================] - 0s 6ms/step - loss: 0.5190 - accuracy: 0.7734 - val_loss: 0.4508 - val_accuracy: 0.8438\n",
      "Epoch 4/20\n",
      "8/8 [==============================] - 0s 6ms/step - loss: 0.4742 - accuracy: 0.7891 - val_loss: 0.4014 - val_accuracy: 0.8750\n",
      "Epoch 5/20\n",
      "8/8 [==============================] - 0s 6ms/step - loss: 0.3991 - accuracy: 0.8438 - val_loss: 0.3575 - val_accuracy: 0.8750\n",
      "Epoch 6/20\n",
      "8/8 [==============================] - 0s 6ms/step - loss: 0.3649 - accuracy: 0.8594 - val_loss: 0.3120 - val_accuracy: 0.9062\n",
      "Epoch 7/20\n",
      "8/8 [==============================] - 0s 5ms/step - loss: 0.3521 - accuracy: 0.8281 - val_loss: 0.2768 - val_accuracy: 0.9062\n",
      "Epoch 8/20\n",
      "8/8 [==============================] - 0s 6ms/step - loss: 0.2986 - accuracy: 0.8594 - val_loss: 0.2445 - val_accuracy: 0.9375\n",
      "Epoch 9/20\n",
      "8/8 [==============================] - 0s 6ms/step - loss: 0.3355 - accuracy: 0.8203 - val_loss: 0.2202 - val_accuracy: 0.9375\n",
      "Epoch 10/20\n",
      "8/8 [==============================] - 0s 6ms/step - loss: 0.2761 - accuracy: 0.8906 - val_loss: 0.1970 - val_accuracy: 0.9688\n",
      "Epoch 11/20\n",
      "8/8 [==============================] - 0s 6ms/step - loss: 0.2609 - accuracy: 0.8672 - val_loss: 0.1812 - val_accuracy: 1.0000\n",
      "Epoch 12/20\n",
      "8/8 [==============================] - 0s 5ms/step - loss: 0.2445 - accuracy: 0.9375 - val_loss: 0.1672 - val_accuracy: 1.0000\n",
      "Epoch 13/20\n",
      "8/8 [==============================] - 0s 6ms/step - loss: 0.2285 - accuracy: 0.8984 - val_loss: 0.1515 - val_accuracy: 1.0000\n",
      "Epoch 14/20\n",
      "8/8 [==============================] - 0s 6ms/step - loss: 0.2108 - accuracy: 0.9141 - val_loss: 0.1404 - val_accuracy: 0.9688\n",
      "Epoch 15/20\n",
      "8/8 [==============================] - 0s 7ms/step - loss: 0.2225 - accuracy: 0.9141 - val_loss: 0.1294 - val_accuracy: 1.0000\n",
      "Epoch 16/20\n",
      "8/8 [==============================] - 0s 6ms/step - loss: 0.1766 - accuracy: 0.9375 - val_loss: 0.1246 - val_accuracy: 1.0000\n",
      "Epoch 17/20\n",
      "8/8 [==============================] - 0s 6ms/step - loss: 0.2634 - accuracy: 0.9062 - val_loss: 0.1276 - val_accuracy: 0.9688\n",
      "Epoch 18/20\n",
      "8/8 [==============================] - 0s 6ms/step - loss: 0.2069 - accuracy: 0.9297 - val_loss: 0.1275 - val_accuracy: 0.9375\n",
      "Epoch 19/20\n",
      "8/8 [==============================] - 0s 5ms/step - loss: 0.1794 - accuracy: 0.9375 - val_loss: 0.1222 - val_accuracy: 0.9688\n",
      "Epoch 20/20\n",
      "8/8 [==============================] - 0s 6ms/step - loss: 0.2012 - accuracy: 0.9219 - val_loss: 0.1243 - val_accuracy: 0.9375\n"
     ]
    }
   ],
   "source": [
    "# Entrenar el modelo\n",
    "history = model.fit([X_train, X_train], y_train, epochs=20, batch_size=16, validation_split=0.2)"
   ]
  },
  {
   "cell_type": "code",
   "execution_count": 203,
   "id": "ceb264b0",
   "metadata": {},
   "outputs": [],
   "source": [
    "# Cargar datos desde CSV\n",
    "dataPhishing = pd.read_csv('C:/Users/LEHI/Documents/Practicas profesionales/ABRIL/preprocessed data-phishing.csv')"
   ]
  },
  {
   "cell_type": "code",
   "execution_count": 204,
   "id": "100369cb",
   "metadata": {},
   "outputs": [],
   "source": [
    "#Cuando se vuelve a cargar el dataset se deben eliminar las columnas que se eliminaron en la fase de entrenamiento\n",
    "dataLimpiaP=eliminar_columnas(dataPhishing,columnasE)"
   ]
  },
  {
   "cell_type": "code",
   "execution_count": 205,
   "id": "6da67b21",
   "metadata": {},
   "outputs": [],
   "source": [
    "# Dividir los datos en características (X) y etiquetas (y)\n",
    "X = dataLimpiaP.drop('phishing', axis=1)\n",
    "y = dataLimpiaP['phishing']"
   ]
  },
  {
   "cell_type": "code",
   "execution_count": 206,
   "id": "78942305",
   "metadata": {},
   "outputs": [],
   "source": [
    "# Dividir datos en entrenamiento y prueba\n",
    "X_train, X_test, y_train, y_test = train_test_split(X, y, test_size=0.2, random_state=42)\n",
    "\n",
    "\n",
    "# Normalizar los datos (opcional pero recomendado)\n",
    "X_test = (X_test - X_test.mean()) / X_test.std()\n"
   ]
  },
  {
   "cell_type": "code",
   "execution_count": 207,
   "id": "cd48aeba",
   "metadata": {
    "scrolled": true
   },
   "outputs": [
    {
     "name": "stdout",
     "output_type": "stream",
     "text": [
      "2/2 [==============================] - 0s 2ms/step\n"
     ]
    }
   ],
   "source": [
    "# Evaluar el modelo\n",
    "y_pred = model.predict([X_test, X_test])\n",
    "y_pred_classes = np.argmax(y_pred, axis=1)"
   ]
  },
  {
   "cell_type": "code",
   "execution_count": 208,
   "id": "e25368e2",
   "metadata": {},
   "outputs": [
    {
     "name": "stdout",
     "output_type": "stream",
     "text": [
      "Matriz de Confusión:\n",
      "[[17  2]\n",
      " [ 2 19]]\n"
     ]
    }
   ],
   "source": [
    "# Matriz de confusión\n",
    "conf_matrix = confusion_matrix(y_test, y_pred_classes)\n",
    "print(\"Matriz de Confusión:\")\n",
    "print(conf_matrix)"
   ]
  },
  {
   "cell_type": "code",
   "execution_count": 209,
   "id": "8fe18dd9",
   "metadata": {},
   "outputs": [
    {
     "name": "stdout",
     "output_type": "stream",
     "text": [
      "Exactitud (Accuracy):\n",
      " 0.9\n",
      "Precisión (Precision) por clase:\n",
      " [0.89473684 0.9047619 ]\n",
      "Sensibilidad (Recall) por clase:\n",
      " [0.89473684 0.9047619 ]\n",
      "Puntuación F1 (F1 Score) por clase:\n",
      " [0.89473684 0.9047619 ]\n"
     ]
    }
   ],
   "source": [
    "#Metricas\n",
    "\n",
    "with np.errstate(divide='ignore', invalid='ignore'):\n",
    "    # Exactitud (Accuracy)\n",
    "    accuracy = np.sum(np.diag(conf_matrix)) / np.sum(conf_matrix)\n",
    "    print(\"Exactitud (Accuracy):\\n\", accuracy)\n",
    "\n",
    "    # Precisión (Precision)\n",
    "    precision = np.diag(conf_matrix) / np.sum(conf_matrix, axis=0)\n",
    "    precision[np.isnan(precision)] = 0  # Reemplaza NaN con 0\n",
    "    print(\"Precisión (Precision) por clase:\\n\", precision)\n",
    "\n",
    "    # Sensibilidad (Recall)\n",
    "    sensibilidad = np.diag(conf_matrix) / np.sum(conf_matrix, axis=1)\n",
    "    sensibilidad[np.isnan(sensibilidad)] = 0  # Reemplaza NaN con 0\n",
    "    print(\"Sensibilidad (Recall) por clase:\\n\", sensibilidad)\n",
    "\n",
    "    # Puntuación F1 (F1 Score)\n",
    "    f1_score = 2 * (precision * sensibilidad) / (precision + sensibilidad)\n",
    "    f1_score[np.isnan(f1_score)] = 0  # Reemplaza NaN con 0\n",
    "    print(\"Puntuación F1 (F1 Score) por clase:\\n\", f1_score)"
   ]
  },
  {
   "cell_type": "code",
   "execution_count": 183,
   "id": "992bbda8",
   "metadata": {},
   "outputs": [
    {
     "data": {
      "image/png": "[encoded data removed]",
      "text/plain": [
       "<Figure size 640x480 with 1 Axes>"
      ]
     },
     "metadata": {},
     "output_type": "display_data"
    }
   ],
   "source": [
    "# Curva ROC\n",
    "fpr, tpr, thresholds = roc_curve(y_test, y_pred_classes)\n",
    "roc_auc = auc(fpr, tpr)\n",
    "\n",
    "plt.figure()\n",
    "plt.plot(fpr, tpr, color='darkorange', lw=2, label='ROC curve (area = %0.2f)' % roc_auc)\n",
    "plt.plot([0, 1], [0, 1], color='navy', lw=2, linestyle='--')\n",
    "plt.xlabel('False Positive Rate')\n",
    "plt.ylabel('True Positive Rate')\n",
    "plt.title('Receiver Operating Characteristic')\n",
    "plt.legend(loc=\"lower right\")\n",
    "plt.show()"
   ]
  },
  {
   "cell_type": "code",
   "execution_count": null,
   "id": "e4b17c62",
   "metadata": {},
   "outputs": [],
   "source": []
  }
 ],
 "metadata": {
  "kernelspec": {
   "display_name": "Python 3 (ipykernel)",
   "language": "python",
   "name": "python3"
  },
  "language_info": {
   "codemirror_mode": {
    "name": "ipython",
    "version": 3
   },
   "file_extension": ".py",
   "mimetype": "text/x-python",
   "name": "python",
   "nbconvert_exporter": "python",
   "pygments_lexer": "ipython3",
   "version": "3.9.18"
  }
 },
 "nbformat": 4,
 "nbformat_minor": 5
}
