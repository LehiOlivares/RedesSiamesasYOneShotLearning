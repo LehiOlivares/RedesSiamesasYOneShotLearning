{
 "cells": [
  {
   "cell_type": "code",
   "execution_count": 166,
   "id": "48613eaf",
   "metadata": {},
   "outputs": [],
   "source": [
    "import numpy as np\n",
    "import pandas as pd\n",
    "import tensorflow as tf\n",
    "from sklearn.model_selection import train_test_split\n",
    "from sklearn.metrics import confusion_matrix, roc_curve, auc\n",
    "import matplotlib.pyplot as plt\n",
    "\n",
    "import tensorflow.keras.losses as losses"
   ]
  },
  {
   "cell_type": "code",
   "execution_count": 167,
   "id": "a0c89211",
   "metadata": {},
   "outputs": [],
   "source": [
    "# Cargar datos desde CSV\n",
    "dataAudio = pd.read_csv('C:/Users/LEHI/Documents/Practicas profesionales/ABRIL/DatasetAudioPrueba2.csv')"
   ]
  },
  {
   "cell_type": "code",
   "execution_count": 168,
   "id": "eb019f54",
   "metadata": {},
   "outputs": [],
   "source": [
    "#Seleccion de elementos por clase\n",
    "df_uniq = dataAudio.groupby('personCLASE').head(50)"
   ]
  },
  {
   "cell_type": "code",
   "execution_count": 169,
   "id": "a2cc4685",
   "metadata": {},
   "outputs": [],
   "source": [
    "#Vizualizar los datos seleccionados\n",
    "#df_uniq"
   ]
  },
  {
   "cell_type": "code",
   "execution_count": 170,
   "id": "f2dd2988",
   "metadata": {},
   "outputs": [],
   "source": [
    "def eliminar_columnas(data, columnas_a_eliminar):\n",
    "    dataSC= df_uniq.copy()\n",
    "    dataSC=df_uniq.drop(columns=columnas_a_eliminar, errors='ignore')\n",
    "    return dataSC"
   ]
  },
  {
   "cell_type": "code",
   "execution_count": 171,
   "id": "4f44c646",
   "metadata": {},
   "outputs": [],
   "source": [
    "columnasE=['signal_mean_beats']"
   ]
  },
  {
   "cell_type": "code",
   "execution_count": 172,
   "id": "4198880b",
   "metadata": {},
   "outputs": [],
   "source": [
    "dataLimpiaAudio=eliminar_columnas(df_uniq,columnasE)"
   ]
  },
  {
   "cell_type": "code",
   "execution_count": 173,
   "id": "28bc9732",
   "metadata": {},
   "outputs": [],
   "source": [
    "#dataLimpiaAudio"
   ]
  },
  {
   "cell_type": "code",
   "execution_count": 174,
   "id": "0e056854",
   "metadata": {},
   "outputs": [],
   "source": [
    "# Dividir los datos en características (X) y etiquetas (y)\n",
    "X = dataLimpiaAudio.drop('personCLASE', axis=1)\n",
    "y = dataLimpiaAudio['personCLASE']"
   ]
  },
  {
   "cell_type": "code",
   "execution_count": 175,
   "id": "e5ba80f4",
   "metadata": {},
   "outputs": [],
   "source": [
    "# Convertir etiquetas a números\n",
    "from sklearn.preprocessing import LabelEncoder\n",
    "label_encoder = LabelEncoder()\n",
    "y = label_encoder.fit_transform(y)"
   ]
  },
  {
   "cell_type": "code",
   "execution_count": 176,
   "id": "9fa49650",
   "metadata": {},
   "outputs": [],
   "source": [
    "# Dividir datos en entrenamiento y prueba\n",
    "X_train, X_test, y_train, y_test = train_test_split(X, y, test_size=0.2, random_state=42)\n",
    "\n",
    "# Normalizar los datos (opcional pero recomendado)\n",
    "X_train = (X_train - X_train.mean()) / X_train.std()\n",
    "X_test = (X_test - X_test.mean()) / X_test.std()"
   ]
  },
  {
   "cell_type": "code",
   "execution_count": 177,
   "id": "2a65fcb1",
   "metadata": {},
   "outputs": [],
   "source": [
    "# Definir la arquitectura de la red siamesa\n",
    "input_shape = X_train.shape[1]"
   ]
  },
  {
   "cell_type": "code",
   "execution_count": 178,
   "id": "ebc73990",
   "metadata": {},
   "outputs": [],
   "source": [
    "# Definir función para crear la rama de la red siamesa\n",
    "def create_siamese_branch(input_shape):\n",
    "    input_layer = tf.keras.layers.Input(shape=(input_shape,))\n",
    "    x = tf.keras.layers.Dense(64, activation='relu')(input_layer)\n",
    "    x = tf.keras.layers.Dropout(0.2)(x)\n",
    "    x = tf.keras.layers.Dense(32, activation='relu')(x)\n",
    "    x = tf.keras.layers.Dropout(0.2)(x)\n",
    "    return tf.keras.Model(inputs=input_layer, outputs=x)"
   ]
  },
  {
   "cell_type": "code",
   "execution_count": 179,
   "id": "2e70596e",
   "metadata": {},
   "outputs": [],
   "source": [
    "# Crear la rama izquierda y derecha de la red siamesa\n",
    "left_input = tf.keras.layers.Input(shape=(input_shape,))\n",
    "right_input = tf.keras.layers.Input(shape=(input_shape,))\n",
    "\n",
    "left_branch = create_siamese_branch(input_shape)(left_input)\n",
    "right_branch = create_siamese_branch(input_shape)(right_input)"
   ]
  },
  {
   "cell_type": "code",
   "execution_count": 180,
   "id": "05be886e",
   "metadata": {},
   "outputs": [],
   "source": [
    "# Concatenar las salidas de ambas ramas\n",
    "merged = tf.keras.layers.Concatenate()([left_branch, right_branch])"
   ]
  },
  {
   "cell_type": "code",
   "execution_count": 181,
   "id": "9c0e20e6",
   "metadata": {},
   "outputs": [],
   "source": [
    "# Agregar capas adicionales y la capa de salida\n",
    "x = tf.keras.layers.Dense(32, activation='relu')(merged)\n",
    "x = tf.keras.layers.Dropout(0.2)(x)\n",
    "output = tf.keras.layers.Dense(3, activation='softmax')(x)  "
   ]
  },
  {
   "cell_type": "code",
   "execution_count": 182,
   "id": "65d87b8f",
   "metadata": {},
   "outputs": [],
   "source": [
    "# Construir el modelo\n",
    "model = tf.keras.Model(inputs=[left_input, right_input], outputs=output)"
   ]
  },
  {
   "cell_type": "code",
   "execution_count": 183,
   "id": "15280e4e",
   "metadata": {},
   "outputs": [],
   "source": [
    "# Compilar el modelo\n",
    "model.compile(optimizer='adam', loss=losses.SparseCategoricalCrossentropy(), metrics=['accuracy'])\n"
   ]
  },
  {
   "cell_type": "code",
   "execution_count": 184,
   "id": "54dedd56",
   "metadata": {},
   "outputs": [
    {
     "name": "stdout",
     "output_type": "stream",
     "text": [
      "Epoch 1/50\n",
      "6/6 [==============================] - 1s 51ms/step - loss: 1.2234 - accuracy: 0.3229 - val_loss: 1.1598 - val_accuracy: 0.5000\n",
      "Epoch 2/50\n",
      "6/6 [==============================] - 0s 8ms/step - loss: 1.1181 - accuracy: 0.4479 - val_loss: 1.0595 - val_accuracy: 0.6250\n",
      "Epoch 3/50\n",
      "6/6 [==============================] - 0s 9ms/step - loss: 1.0168 - accuracy: 0.4583 - val_loss: 0.9984 - val_accuracy: 0.6250\n",
      "Epoch 4/50\n",
      "6/6 [==============================] - 0s 8ms/step - loss: 0.9235 - accuracy: 0.5521 - val_loss: 0.9564 - val_accuracy: 0.6667\n",
      "Epoch 5/50\n",
      "6/6 [==============================] - 0s 7ms/step - loss: 0.9006 - accuracy: 0.5521 - val_loss: 0.9180 - val_accuracy: 0.7083\n",
      "Epoch 6/50\n",
      "6/6 [==============================] - 0s 9ms/step - loss: 0.8742 - accuracy: 0.5833 - val_loss: 0.8780 - val_accuracy: 0.7917\n",
      "Epoch 7/50\n",
      "6/6 [==============================] - 0s 8ms/step - loss: 0.8079 - accuracy: 0.7396 - val_loss: 0.8293 - val_accuracy: 0.7917\n",
      "Epoch 8/50\n",
      "6/6 [==============================] - 0s 9ms/step - loss: 0.7504 - accuracy: 0.7812 - val_loss: 0.7837 - val_accuracy: 0.7500\n",
      "Epoch 9/50\n",
      "6/6 [==============================] - 0s 10ms/step - loss: 0.6995 - accuracy: 0.7708 - val_loss: 0.7431 - val_accuracy: 0.7500\n",
      "Epoch 10/50\n",
      "6/6 [==============================] - 0s 9ms/step - loss: 0.6449 - accuracy: 0.7188 - val_loss: 0.7020 - val_accuracy: 0.7500\n",
      "Epoch 11/50\n",
      "6/6 [==============================] - 0s 8ms/step - loss: 0.6123 - accuracy: 0.8125 - val_loss: 0.6627 - val_accuracy: 0.7500\n",
      "Epoch 12/50\n",
      "6/6 [==============================] - 0s 9ms/step - loss: 0.6231 - accuracy: 0.7292 - val_loss: 0.6288 - val_accuracy: 0.7917\n",
      "Epoch 13/50\n",
      "6/6 [==============================] - 0s 10ms/step - loss: 0.5387 - accuracy: 0.8542 - val_loss: 0.6062 - val_accuracy: 0.7917\n",
      "Epoch 14/50\n",
      "6/6 [==============================] - 0s 8ms/step - loss: 0.4658 - accuracy: 0.8125 - val_loss: 0.5831 - val_accuracy: 0.7917\n",
      "Epoch 15/50\n",
      "6/6 [==============================] - 0s 9ms/step - loss: 0.3925 - accuracy: 0.8958 - val_loss: 0.5692 - val_accuracy: 0.7917\n",
      "Epoch 16/50\n",
      "6/6 [==============================] - 0s 8ms/step - loss: 0.3973 - accuracy: 0.8958 - val_loss: 0.5623 - val_accuracy: 0.8333\n",
      "Epoch 17/50\n",
      "6/6 [==============================] - 0s 9ms/step - loss: 0.3842 - accuracy: 0.8542 - val_loss: 0.5559 - val_accuracy: 0.8333\n",
      "Epoch 18/50\n",
      "6/6 [==============================] - 0s 11ms/step - loss: 0.3892 - accuracy: 0.8750 - val_loss: 0.5566 - val_accuracy: 0.8333\n",
      "Epoch 19/50\n",
      "6/6 [==============================] - 0s 10ms/step - loss: 0.3443 - accuracy: 0.8750 - val_loss: 0.5597 - val_accuracy: 0.8333\n",
      "Epoch 20/50\n",
      "6/6 [==============================] - 0s 10ms/step - loss: 0.3171 - accuracy: 0.9271 - val_loss: 0.5730 - val_accuracy: 0.8333\n",
      "Epoch 21/50\n",
      "6/6 [==============================] - 0s 9ms/step - loss: 0.2449 - accuracy: 0.9688 - val_loss: 0.6126 - val_accuracy: 0.8333\n",
      "Epoch 22/50\n",
      "6/6 [==============================] - 0s 10ms/step - loss: 0.2562 - accuracy: 0.9167 - val_loss: 0.6276 - val_accuracy: 0.8333\n",
      "Epoch 23/50\n",
      "6/6 [==============================] - 0s 9ms/step - loss: 0.2248 - accuracy: 0.9271 - val_loss: 0.6298 - val_accuracy: 0.8333\n",
      "Epoch 24/50\n",
      "6/6 [==============================] - 0s 9ms/step - loss: 0.2526 - accuracy: 0.9062 - val_loss: 0.6421 - val_accuracy: 0.8333\n",
      "Epoch 25/50\n",
      "6/6 [==============================] - 0s 9ms/step - loss: 0.1758 - accuracy: 0.9375 - val_loss: 0.6466 - val_accuracy: 0.8333\n",
      "Epoch 26/50\n",
      "6/6 [==============================] - 0s 9ms/step - loss: 0.1563 - accuracy: 0.9375 - val_loss: 0.6763 - val_accuracy: 0.8333\n",
      "Epoch 27/50\n",
      "6/6 [==============================] - 0s 10ms/step - loss: 0.1499 - accuracy: 0.9688 - val_loss: 0.6793 - val_accuracy: 0.8333\n",
      "Epoch 28/50\n",
      "6/6 [==============================] - 0s 9ms/step - loss: 0.1597 - accuracy: 0.9583 - val_loss: 0.6778 - val_accuracy: 0.8333\n",
      "Epoch 29/50\n",
      "6/6 [==============================] - 0s 9ms/step - loss: 0.1360 - accuracy: 0.9792 - val_loss: 0.6778 - val_accuracy: 0.8333\n",
      "Epoch 30/50\n",
      "6/6 [==============================] - 0s 10ms/step - loss: 0.1504 - accuracy: 0.9583 - val_loss: 0.7252 - val_accuracy: 0.8333\n",
      "Epoch 31/50\n",
      "6/6 [==============================] - 0s 8ms/step - loss: 0.0948 - accuracy: 0.9792 - val_loss: 0.7742 - val_accuracy: 0.8333\n",
      "Epoch 32/50\n",
      "6/6 [==============================] - 0s 8ms/step - loss: 0.1131 - accuracy: 0.9792 - val_loss: 0.7872 - val_accuracy: 0.8333\n",
      "Epoch 33/50\n",
      "6/6 [==============================] - 0s 8ms/step - loss: 0.0944 - accuracy: 0.9688 - val_loss: 0.8298 - val_accuracy: 0.8333\n",
      "Epoch 34/50\n",
      "6/6 [==============================] - 0s 9ms/step - loss: 0.0926 - accuracy: 0.9792 - val_loss: 0.8776 - val_accuracy: 0.8333\n",
      "Epoch 35/50\n",
      "6/6 [==============================] - 0s 9ms/step - loss: 0.0805 - accuracy: 0.9792 - val_loss: 0.8721 - val_accuracy: 0.8750\n",
      "Epoch 36/50\n",
      "6/6 [==============================] - 0s 8ms/step - loss: 0.0833 - accuracy: 0.9896 - val_loss: 0.8699 - val_accuracy: 0.8750\n",
      "Epoch 37/50\n",
      "6/6 [==============================] - 0s 9ms/step - loss: 0.0530 - accuracy: 1.0000 - val_loss: 0.8920 - val_accuracy: 0.8750\n",
      "Epoch 38/50\n",
      "6/6 [==============================] - 0s 8ms/step - loss: 0.0675 - accuracy: 0.9792 - val_loss: 0.9433 - val_accuracy: 0.8750\n",
      "Epoch 39/50\n",
      "6/6 [==============================] - 0s 8ms/step - loss: 0.0545 - accuracy: 0.9896 - val_loss: 0.9639 - val_accuracy: 0.8750\n",
      "Epoch 40/50\n",
      "6/6 [==============================] - 0s 8ms/step - loss: 0.0322 - accuracy: 1.0000 - val_loss: 0.9805 - val_accuracy: 0.8750\n",
      "Epoch 41/50\n",
      "6/6 [==============================] - 0s 8ms/step - loss: 0.0329 - accuracy: 1.0000 - val_loss: 0.9793 - val_accuracy: 0.8750\n",
      "Epoch 42/50\n",
      "6/6 [==============================] - 0s 9ms/step - loss: 0.0632 - accuracy: 0.9896 - val_loss: 0.9977 - val_accuracy: 0.8750\n",
      "Epoch 43/50\n",
      "6/6 [==============================] - 0s 9ms/step - loss: 0.0886 - accuracy: 0.9688 - val_loss: 0.9944 - val_accuracy: 0.8750\n",
      "Epoch 44/50\n",
      "6/6 [==============================] - 0s 8ms/step - loss: 0.0517 - accuracy: 1.0000 - val_loss: 0.9707 - val_accuracy: 0.8750\n",
      "Epoch 45/50\n",
      "6/6 [==============================] - 0s 9ms/step - loss: 0.0432 - accuracy: 0.9896 - val_loss: 1.0221 - val_accuracy: 0.8750\n",
      "Epoch 46/50\n",
      "6/6 [==============================] - 0s 8ms/step - loss: 0.0268 - accuracy: 1.0000 - val_loss: 1.0663 - val_accuracy: 0.8750\n",
      "Epoch 47/50\n",
      "6/6 [==============================] - 0s 8ms/step - loss: 0.0243 - accuracy: 1.0000 - val_loss: 1.0806 - val_accuracy: 0.8750\n",
      "Epoch 48/50\n",
      "6/6 [==============================] - 0s 8ms/step - loss: 0.0390 - accuracy: 1.0000 - val_loss: 1.0707 - val_accuracy: 0.8750\n",
      "Epoch 49/50\n",
      "6/6 [==============================] - 0s 8ms/step - loss: 0.0374 - accuracy: 0.9896 - val_loss: 1.0479 - val_accuracy: 0.8750\n",
      "Epoch 50/50\n",
      "6/6 [==============================] - 0s 9ms/step - loss: 0.0295 - accuracy: 1.0000 - val_loss: 1.0288 - val_accuracy: 0.8750\n"
     ]
    }
   ],
   "source": [
    "# Entrenar el modelo\n",
    "history = model.fit([X_train, X_train], y_train, epochs=50, batch_size=16, validation_split=0.2)"
   ]
  },
  {
   "cell_type": "code",
   "execution_count": 185,
   "id": "977a448f",
   "metadata": {},
   "outputs": [],
   "source": [
    "# Cargar datos desde CSV\n",
    "dataAudio = pd.read_csv('C:/Users/LEHI/Documents/Practicas profesionales/ABRIL/DatasetAudioPrueba2.csv')"
   ]
  },
  {
   "cell_type": "code",
   "execution_count": 186,
   "id": "c8cff927",
   "metadata": {},
   "outputs": [],
   "source": [
    "#Cuando se vuelve a cargar el dataset se deben eliminar las columnas que se eliminaron en la fase de entrenamiento\n",
    "dataAudio=eliminar_columnas(dataAudio,columnasE)"
   ]
  },
  {
   "cell_type": "code",
   "execution_count": 187,
   "id": "71d46d69",
   "metadata": {},
   "outputs": [],
   "source": [
    "# Dividir los datos en características (X) y etiquetas (y)\n",
    "X = dataAudio.drop('personCLASE', axis=1)\n",
    "y = dataAudio['personCLASE']"
   ]
  },
  {
   "cell_type": "code",
   "execution_count": 188,
   "id": "698cca54",
   "metadata": {},
   "outputs": [],
   "source": [
    "# Convertir etiquetas a números\n",
    "from sklearn.preprocessing import LabelEncoder\n",
    "label_encoder = LabelEncoder()\n",
    "y = label_encoder.fit_transform(y)"
   ]
  },
  {
   "cell_type": "code",
   "execution_count": 189,
   "id": "7c016f67",
   "metadata": {},
   "outputs": [],
   "source": [
    "# Dividir datos en entrenamiento y prueba\n",
    "X_train, X_test, y_train, y_test = train_test_split(X, y, test_size=0.2, random_state=42)\n",
    "\n",
    "\n",
    "# Normalizar los datos (opcional pero recomendado)\n",
    "X_test = (X_test - X_test.mean()) / X_test.std()"
   ]
  },
  {
   "cell_type": "code",
   "execution_count": 190,
   "id": "96c8223c",
   "metadata": {},
   "outputs": [
    {
     "name": "stdout",
     "output_type": "stream",
     "text": [
      "1/1 [==============================] - 0s 68ms/step\n"
     ]
    }
   ],
   "source": [
    "# Evaluar el modelo\n",
    "y_pred = model.predict([X_test, X_test])\n",
    "y_pred_classes = np.argmax(y_pred, axis=1)"
   ]
  },
  {
   "cell_type": "code",
   "execution_count": 191,
   "id": "e5e1c8fe",
   "metadata": {},
   "outputs": [
    {
     "name": "stdout",
     "output_type": "stream",
     "text": [
      "Matriz de Confusión:\n",
      "[[11  1  0]\n",
      " [ 1  8  0]\n",
      " [ 0  0  9]]\n"
     ]
    }
   ],
   "source": [
    "# Matriz de confusión\n",
    "conf_matrix = confusion_matrix(y_test, y_pred_classes)\n",
    "print(\"Matriz de Confusión:\")\n",
    "print(conf_matrix)"
   ]
  },
  {
   "cell_type": "code",
   "execution_count": 192,
   "id": "dc1e87a8",
   "metadata": {},
   "outputs": [
    {
     "name": "stdout",
     "output_type": "stream",
     "text": [
      "Exactitud (Accuracy):\n",
      " 0.9333333333333333\n",
      "Precisión (Precision) por clase:\n",
      " [0.91666667 0.88888889 1.        ]\n",
      "Sensibilidad (Recall) por clase:\n",
      " [0.91666667 0.88888889 1.        ]\n",
      "Puntuación F1 (F1 Score) por clase:\n",
      " [0.91666667 0.88888889 1.        ]\n"
     ]
    }
   ],
   "source": [
    "#Metricas\n",
    "\n",
    "with np.errstate(divide='ignore', invalid='ignore'):\n",
    "    # Exactitud (Accuracy)\n",
    "    accuracy = np.sum(np.diag(conf_matrix)) / np.sum(conf_matrix)\n",
    "    print(\"Exactitud (Accuracy):\\n\", accuracy)\n",
    "\n",
    "    # Precisión (Precision)\n",
    "    precision = np.diag(conf_matrix) / np.sum(conf_matrix, axis=0)\n",
    "    precision[np.isnan(precision)] = 0  # Reemplaza NaN con 0\n",
    "    print(\"Precisión (Precision) por clase:\\n\", precision)\n",
    "\n",
    "    # Sensibilidad (Recall)\n",
    "    sensibilidad = np.diag(conf_matrix) / np.sum(conf_matrix, axis=1)\n",
    "    sensibilidad[np.isnan(sensibilidad)] = 0  # Reemplaza NaN con 0\n",
    "    print(\"Sensibilidad (Recall) por clase:\\n\", sensibilidad)\n",
    "\n",
    "    # Puntuación F1 (F1 Score)\n",
    "    f1_score = 2 * (precision * sensibilidad) / (precision + sensibilidad)\n",
    "    f1_score[np.isnan(f1_score)] = 0  # Reemplaza NaN con 0\n",
    "    print(\"Puntuación F1 (F1 Score) por clase:\\n\", f1_score)"
   ]
  },
  {
   "cell_type": "code",
   "execution_count": null,
   "id": "93840cca",
   "metadata": {},
   "outputs": [],
   "source": []
  }
 ],
 "metadata": {
  "kernelspec": {
   "display_name": "Python 3 (ipykernel)",
   "language": "python",
   "name": "python3"
  },
  "language_info": {
   "codemirror_mode": {
    "name": "ipython",
    "version": 3
   },
   "file_extension": ".py",
   "mimetype": "text/x-python",
   "name": "python",
   "nbconvert_exporter": "python",
   "pygments_lexer": "ipython3",
   "version": "3.9.18"
  }
 },
 "nbformat": 4,
 "nbformat_minor": 5
}
